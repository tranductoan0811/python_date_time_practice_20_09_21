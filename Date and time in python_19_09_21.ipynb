{
 "cells": [
  {
   "cell_type": "code",
   "execution_count": 67,
   "id": "708de436",
   "metadata": {},
   "outputs": [],
   "source": [
    "import datetime"
   ]
  },
  {
   "cell_type": "code",
   "execution_count": 108,
   "id": "7f68d6d8",
   "metadata": {},
   "outputs": [],
   "source": [
    "import calendar"
   ]
  },
  {
   "cell_type": "code",
   "execution_count": 146,
   "id": "04f344da",
   "metadata": {},
   "outputs": [],
   "source": [
    "#thuộc tính của class datetime để lấy ra thông tin ngày, giờ, giây, phút hiện tại\n",
    "dt_now = datetime.datetime.now()\n",
    "#lấy ngày hiện tại, sử dụng phương thức today() trong class date\n",
    "ngay_ht = datetime.date.today()\n",
    "#trả về ngày trong tuần có kiểu là interger, với thứ hai là 0, thứ ba là 1,...chủ nhật là 6\n",
    "ngay_tuan = ngay_ht.weekday()\n",
    "#lấy năm hiện tại\n",
    "nam = dt_now.year\n",
    "thang = dt_now.month\n",
    "#lấy số ngày trong tháng hiện tại\n",
    "songay_thang_ht = calendar.monthrange(ngay_ht.year,ngay_ht.month)[1]"
   ]
  },
  {
   "cell_type": "code",
   "execution_count": null,
   "id": "e88e1963",
   "metadata": {},
   "outputs": [],
   "source": [
    "#\"\"\"replace(old, new, [option])\n",
    "#old: Đây là chuỗi con cũ để được thay thế.\n",
    "#new: Đây là chuỗi con mới để thay thế cho chuỗi con cũ.\n",
    "#max: Nếu tham số tùy ý max này được cung cấp, thì chỉ có các sự xuất hiện đầu tiên được thay thế\n",
    "#vd: \n",
    "#str1 = \"Vi du ham replace() Python\"\n",
    "# print (str1.replace(\"Python\", \"Python tren VietTuts.Vn\"))\n",
    "# print (str1.replace(\"ham\", \"phuong thuc\", 1))\n",
    "#----\n",
    "#ket qua: \n",
    "#Vi du ham replace() Python tren VietTuts.Vn\n",
    "# Vi du phuong thuc replace() Python\"\"\""
   ]
  },
  {
   "cell_type": "code",
   "execution_count": 149,
   "id": "2c08fc83",
   "metadata": {},
   "outputs": [],
   "source": [
    "#lấy ngày đầu tháng\n",
    "ngay_dauthang = ngay_ht.replace(day=1)"
   ]
  },
  {
   "cell_type": "code",
   "execution_count": 137,
   "id": "197c28dd",
   "metadata": {},
   "outputs": [],
   "source": [
    "#lấy ngày cuối tháng hiện tại từ ngày hiện tại\n",
    "#hàm: monthrange(year,month): Trả về ngày trong tuần của ngày đầu tiên của tháng và số ngày trong tháng\n",
    "#chia nó thành hai phần:\n",
    "#đầu tiên là lấy số ngày của tháng hiện tại : calendar.monthrange(date.today().year, date.today().month)[1]\n",
    "#thay thế ngày hiện tại bằng ngày cuối tháng sử dụng: replace\n",
    "\n",
    "ngay_cuoithang = ngay_ht.replace(day = calendar.monthrange(ngay_ht.year,ngay_ht.month)[1])"
   ]
  },
  {
   "cell_type": "code",
   "execution_count": 141,
   "id": "2115320b",
   "metadata": {
    "scrolled": true
   },
   "outputs": [
    {
     "name": "stdout",
     "output_type": "stream",
     "text": [
      "2021-09-20 00:52:07.534413\n",
      "ngay 20 thang 09 nam 2021\n",
      "bây giờ là 00 h : 09 : 07\n",
      "ngày 20 tháng 9 năm 2021\n",
      "ngày hôm nay là : 2021-09-20\n",
      "0\n"
     ]
    }
   ],
   "source": [
    "print(dt_now)\n",
    "print(dt_now.strftime(\"ngay %d thang %m nam %Y\"))\n",
    "print(\"bây giờ là\", dt_now.strftime(\"%H h : %m : %S\"))\n",
    "print(\"ngày\", dt_now.day, \"tháng\", dt_now.month, \"năm\", dt_now.year)\n",
    "print(\"ngày hôm nay là :\", ngay_ht)\n",
    "print(ngay_tuan)"
   ]
  },
  {
   "cell_type": "code",
   "execution_count": 64,
   "id": "7e591efc",
   "metadata": {},
   "outputs": [
    {
     "name": "stdout",
     "output_type": "stream",
     "text": [
      "Hôm nay là thứ 2\n"
     ]
    }
   ],
   "source": [
    "if ngay_tuan==0:\n",
    "    print(\"Hôm nay là thứ\", str(ngay_tuan+2))\n",
    "elif ngay_tuan == 1:\n",
    "    print(\"Hôm nay là thứ\", \"ba\")\n",
    "elif ngay_tuan == 2:\n",
    "    print(\"Hôm nay là thứ\", \"tư\")\n",
    "elif ngay_tuan == 3:\n",
    "    print(\"Hôm nay là thứ\", \"năm\")\n",
    "elif ngay_tuan == 4:\n",
    "    print(\"Hôm nay là thứ\", \"sáu\")\n",
    "elif ngay_tuan == 5:\n",
    "    print(\"Hôm nay là thứ\", \"bảy\")\n",
    "else: \n",
    "    print(\"Hôm nay là\", \"Chủ nhật\")"
   ]
  },
  {
   "cell_type": "code",
   "execution_count": 142,
   "id": "90692fc2",
   "metadata": {
    "scrolled": true
   },
   "outputs": [
    {
     "name": "stdout",
     "output_type": "stream",
     "text": [
      "ngày cuối tháng là 2021-09-30\n"
     ]
    }
   ],
   "source": [
    "print(\"ngày cuối tháng là\", ngay_cuoithang)"
   ]
  },
  {
   "cell_type": "code",
   "execution_count": 143,
   "id": "cb427d96",
   "metadata": {
    "scrolled": true
   },
   "outputs": [
    {
     "name": "stdout",
     "output_type": "stream",
     "text": [
      "ngày đầu tháng: 2021-09-01\n"
     ]
    }
   ],
   "source": [
    "print(\"ngày đầu tháng:\", ngay_dauthang)"
   ]
  },
  {
   "cell_type": "code",
   "execution_count": 148,
   "id": "e5d8051f",
   "metadata": {},
   "outputs": [
    {
     "name": "stdout",
     "output_type": "stream",
     "text": [
      "tháng 9 năm 2021 có số ngày là 30\n"
     ]
    }
   ],
   "source": [
    "print(\"tháng\", thang, \"năm\", nam, \"có số ngày là\", songay_thang_ht)"
   ]
  }
 ],
 "metadata": {
  "kernelspec": {
   "display_name": "Python 3 (ipykernel)",
   "language": "python",
   "name": "python3"
  },
  "language_info": {
   "codemirror_mode": {
    "name": "ipython",
    "version": 3
   },
   "file_extension": ".py",
   "mimetype": "text/x-python",
   "name": "python",
   "nbconvert_exporter": "python",
   "pygments_lexer": "ipython3",
   "version": "3.9.6"
  }
 },
 "nbformat": 4,
 "nbformat_minor": 5
}
